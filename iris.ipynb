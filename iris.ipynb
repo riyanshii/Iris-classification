{
  "nbformat": 4,
  "nbformat_minor": 0,
  "metadata": {
    "colab": {
      "name": "iris.ipynb",
      "provenance": [],
      "collapsed_sections": []
    },
    "kernelspec": {
      "name": "python3",
      "display_name": "Python 3"
    }
  },
  "cells": [
    {
      "cell_type": "code",
      "metadata": {
        "id": "yg2NcD7cr9C2",
        "colab_type": "code",
        "colab": {}
      },
      "source": [
        "import pandas as pd\n",
        "import numpy as np\n",
        "from sklearn.model_selection import train_test_split\n",
        "from sklearn.metrics import accuracy_score\n",
        "from sklearn.tree import DecisionTreeClassifier\n",
        "import numpy as np\n",
        "from sklearn import svm\n",
        "from sklearn.naive_bayes import GaussianNB"
      ],
      "execution_count": 0,
      "outputs": []
    },
    {
      "cell_type": "code",
      "metadata": {
        "id": "0oAZv2GLsGBz",
        "colab_type": "code",
        "colab": {}
      },
      "source": [
        "df = pd.read_csv('IRIS.csv')\n",
        "\n",
        "labels = df['species']\n",
        "features = df[['sepal_length','sepal_width','petal_length','petal_width']]\n",
        "\n"
      ],
      "execution_count": 0,
      "outputs": []
    },
    {
      "cell_type": "code",
      "metadata": {
        "id": "3unW6ybnslHF",
        "colab_type": "code",
        "colab": {}
      },
      "source": [
        "features_train, features_test, labels_train, labels_test = train_test_split(features, labels, test_size=0.33, random_state=42)\n"
      ],
      "execution_count": 0,
      "outputs": []
    },
    {
      "cell_type": "code",
      "metadata": {
        "id": "sYPQnmdj5X2Y",
        "colab_type": "code",
        "colab": {
          "base_uri": "https://localhost:8080/",
          "height": 34
        },
        "outputId": "8572643c-b8db-4ca7-c72f-24b50379bb51"
      },
      "source": [
        "#Gaussian Naive Bayes\n",
        "clf2 = GaussianNB()\n",
        "clf2.fit(features_train,labels_train)\n",
        "pred2 = clf2.predict(features_test)\n",
        "\n",
        "print (accuracy_score(pred2,labels_test))"
      ],
      "execution_count": 130,
      "outputs": [
        {
          "output_type": "stream",
          "text": [
            "0.96\n"
          ],
          "name": "stdout"
        }
      ]
    },
    {
      "cell_type": "code",
      "metadata": {
        "id": "fPQrexVKtLUV",
        "colab_type": "code",
        "colab": {
          "base_uri": "https://localhost:8080/",
          "height": 897
        },
        "outputId": "8958918b-4287-4e9a-e3d5-cded5142d4ec"
      },
      "source": [
        "features_test = features_test.to_numpy()\n",
        "labels_test = labels_test.to_numpy()\n",
        "for i in range (len(features_test)):\n",
        "  print (i,\" \",features_test[i],labels_test[i],pred2[i])"
      ],
      "execution_count": 131,
      "outputs": [
        {
          "output_type": "stream",
          "text": [
            "0   [6.1 2.8 4.7 1.2] Iris-versicolor Iris-versicolor\n",
            "1   [5.7 3.8 1.7 0.3] Iris-setosa Iris-setosa\n",
            "2   [7.7 2.6 6.9 2.3] Iris-virginica Iris-virginica\n",
            "3   [6.  2.9 4.5 1.5] Iris-versicolor Iris-versicolor\n",
            "4   [6.8 2.8 4.8 1.4] Iris-versicolor Iris-versicolor\n",
            "5   [5.4 3.4 1.5 0.4] Iris-setosa Iris-setosa\n",
            "6   [5.6 2.9 3.6 1.3] Iris-versicolor Iris-versicolor\n",
            "7   [6.9 3.1 5.1 2.3] Iris-virginica Iris-virginica\n",
            "8   [6.2 2.2 4.5 1.5] Iris-versicolor Iris-versicolor\n",
            "9   [5.8 2.7 3.9 1.2] Iris-versicolor Iris-versicolor\n",
            "10   [6.5 3.2 5.1 2. ] Iris-virginica Iris-virginica\n",
            "11   [4.8 3.  1.4 0.1] Iris-setosa Iris-setosa\n",
            "12   [5.5 3.5 1.3 0.2] Iris-setosa Iris-setosa\n",
            "13   [4.9 3.1 1.5 0.1] Iris-setosa Iris-setosa\n",
            "14   [5.1 3.8 1.5 0.3] Iris-setosa Iris-setosa\n",
            "15   [6.3 3.3 4.7 1.6] Iris-versicolor Iris-virginica\n",
            "16   [6.5 3.  5.8 2.2] Iris-virginica Iris-virginica\n",
            "17   [5.6 2.5 3.9 1.1] Iris-versicolor Iris-versicolor\n",
            "18   [5.7 2.8 4.5 1.3] Iris-versicolor Iris-versicolor\n",
            "19   [6.4 2.8 5.6 2.2] Iris-virginica Iris-virginica\n",
            "20   [4.7 3.2 1.6 0.2] Iris-setosa Iris-setosa\n",
            "21   [6.1 3.  4.9 1.8] Iris-virginica Iris-virginica\n",
            "22   [5.  3.4 1.6 0.4] Iris-setosa Iris-setosa\n",
            "23   [6.4 2.8 5.6 2.1] Iris-virginica Iris-virginica\n",
            "24   [7.9 3.8 6.4 2. ] Iris-virginica Iris-virginica\n",
            "25   [6.7 3.  5.2 2.3] Iris-virginica Iris-virginica\n",
            "26   [6.7 2.5 5.8 1.8] Iris-virginica Iris-virginica\n",
            "27   [6.8 3.2 5.9 2.3] Iris-virginica Iris-virginica\n",
            "28   [4.8 3.  1.4 0.3] Iris-setosa Iris-setosa\n",
            "29   [4.8 3.1 1.6 0.2] Iris-setosa Iris-setosa\n",
            "30   [4.6 3.6 1.  0.2] Iris-setosa Iris-setosa\n",
            "31   [5.7 4.4 1.5 0.4] Iris-setosa Iris-setosa\n",
            "32   [6.7 3.1 4.4 1.4] Iris-versicolor Iris-versicolor\n",
            "33   [4.8 3.4 1.6 0.2] Iris-setosa Iris-setosa\n",
            "34   [4.4 3.2 1.3 0.2] Iris-setosa Iris-setosa\n",
            "35   [6.3 2.5 5.  1.9] Iris-virginica Iris-virginica\n",
            "36   [6.4 3.2 4.5 1.5] Iris-versicolor Iris-versicolor\n",
            "37   [5.2 3.5 1.5 0.2] Iris-setosa Iris-setosa\n",
            "38   [5.  3.6 1.4 0.2] Iris-setosa Iris-setosa\n",
            "39   [5.2 4.1 1.5 0.1] Iris-setosa Iris-setosa\n",
            "40   [5.8 2.7 5.1 1.9] Iris-virginica Iris-virginica\n",
            "41   [6.  3.4 4.5 1.6] Iris-versicolor Iris-versicolor\n",
            "42   [6.7 3.1 4.7 1.5] Iris-versicolor Iris-versicolor\n",
            "43   [5.4 3.9 1.3 0.4] Iris-setosa Iris-setosa\n",
            "44   [5.4 3.7 1.5 0.2] Iris-setosa Iris-setosa\n",
            "45   [5.5 2.4 3.7 1. ] Iris-versicolor Iris-versicolor\n",
            "46   [6.3 2.8 5.1 1.5] Iris-virginica Iris-versicolor\n",
            "47   [6.4 3.1 5.5 1.8] Iris-virginica Iris-virginica\n",
            "48   [6.6 3.  4.4 1.4] Iris-versicolor Iris-versicolor\n",
            "49   [7.2 3.6 6.1 2.5] Iris-virginica Iris-virginica\n"
          ],
          "name": "stdout"
        }
      ]
    },
    {
      "cell_type": "code",
      "metadata": {
        "id": "4K7ri5ge2TX_",
        "colab_type": "code",
        "colab": {
          "base_uri": "https://localhost:8080/",
          "height": 34
        },
        "outputId": "9458eed7-b900-4244-8dca-819e385f83b5"
      },
      "source": [
        "#Support Vector Machines\n",
        "\n",
        "clf1 = svm.SVC()\n",
        "clf1.fit(features_train,labels_train)\n",
        "pred1 = clf1.predict(features_test)\n",
        "print (accuracy_score(pred1,labels_test))"
      ],
      "execution_count": 132,
      "outputs": [
        {
          "output_type": "stream",
          "text": [
            "1.0\n"
          ],
          "name": "stdout"
        }
      ]
    },
    {
      "cell_type": "code",
      "metadata": {
        "id": "tuCYmXxf43aF",
        "colab_type": "code",
        "colab": {
          "base_uri": "https://localhost:8080/",
          "height": 897
        },
        "outputId": "a8edaade-71a9-474e-d976-3fe3178b30b1"
      },
      "source": [
        "for i in range (len(features_test)): \n",
        "  print (i,\" \",features_test[i],labels_test[i],pred1[i])"
      ],
      "execution_count": 133,
      "outputs": [
        {
          "output_type": "stream",
          "text": [
            "0   [6.1 2.8 4.7 1.2] Iris-versicolor Iris-versicolor\n",
            "1   [5.7 3.8 1.7 0.3] Iris-setosa Iris-setosa\n",
            "2   [7.7 2.6 6.9 2.3] Iris-virginica Iris-virginica\n",
            "3   [6.  2.9 4.5 1.5] Iris-versicolor Iris-versicolor\n",
            "4   [6.8 2.8 4.8 1.4] Iris-versicolor Iris-versicolor\n",
            "5   [5.4 3.4 1.5 0.4] Iris-setosa Iris-setosa\n",
            "6   [5.6 2.9 3.6 1.3] Iris-versicolor Iris-versicolor\n",
            "7   [6.9 3.1 5.1 2.3] Iris-virginica Iris-virginica\n",
            "8   [6.2 2.2 4.5 1.5] Iris-versicolor Iris-versicolor\n",
            "9   [5.8 2.7 3.9 1.2] Iris-versicolor Iris-versicolor\n",
            "10   [6.5 3.2 5.1 2. ] Iris-virginica Iris-virginica\n",
            "11   [4.8 3.  1.4 0.1] Iris-setosa Iris-setosa\n",
            "12   [5.5 3.5 1.3 0.2] Iris-setosa Iris-setosa\n",
            "13   [4.9 3.1 1.5 0.1] Iris-setosa Iris-setosa\n",
            "14   [5.1 3.8 1.5 0.3] Iris-setosa Iris-setosa\n",
            "15   [6.3 3.3 4.7 1.6] Iris-versicolor Iris-versicolor\n",
            "16   [6.5 3.  5.8 2.2] Iris-virginica Iris-virginica\n",
            "17   [5.6 2.5 3.9 1.1] Iris-versicolor Iris-versicolor\n",
            "18   [5.7 2.8 4.5 1.3] Iris-versicolor Iris-versicolor\n",
            "19   [6.4 2.8 5.6 2.2] Iris-virginica Iris-virginica\n",
            "20   [4.7 3.2 1.6 0.2] Iris-setosa Iris-setosa\n",
            "21   [6.1 3.  4.9 1.8] Iris-virginica Iris-virginica\n",
            "22   [5.  3.4 1.6 0.4] Iris-setosa Iris-setosa\n",
            "23   [6.4 2.8 5.6 2.1] Iris-virginica Iris-virginica\n",
            "24   [7.9 3.8 6.4 2. ] Iris-virginica Iris-virginica\n",
            "25   [6.7 3.  5.2 2.3] Iris-virginica Iris-virginica\n",
            "26   [6.7 2.5 5.8 1.8] Iris-virginica Iris-virginica\n",
            "27   [6.8 3.2 5.9 2.3] Iris-virginica Iris-virginica\n",
            "28   [4.8 3.  1.4 0.3] Iris-setosa Iris-setosa\n",
            "29   [4.8 3.1 1.6 0.2] Iris-setosa Iris-setosa\n",
            "30   [4.6 3.6 1.  0.2] Iris-setosa Iris-setosa\n",
            "31   [5.7 4.4 1.5 0.4] Iris-setosa Iris-setosa\n",
            "32   [6.7 3.1 4.4 1.4] Iris-versicolor Iris-versicolor\n",
            "33   [4.8 3.4 1.6 0.2] Iris-setosa Iris-setosa\n",
            "34   [4.4 3.2 1.3 0.2] Iris-setosa Iris-setosa\n",
            "35   [6.3 2.5 5.  1.9] Iris-virginica Iris-virginica\n",
            "36   [6.4 3.2 4.5 1.5] Iris-versicolor Iris-versicolor\n",
            "37   [5.2 3.5 1.5 0.2] Iris-setosa Iris-setosa\n",
            "38   [5.  3.6 1.4 0.2] Iris-setosa Iris-setosa\n",
            "39   [5.2 4.1 1.5 0.1] Iris-setosa Iris-setosa\n",
            "40   [5.8 2.7 5.1 1.9] Iris-virginica Iris-virginica\n",
            "41   [6.  3.4 4.5 1.6] Iris-versicolor Iris-versicolor\n",
            "42   [6.7 3.1 4.7 1.5] Iris-versicolor Iris-versicolor\n",
            "43   [5.4 3.9 1.3 0.4] Iris-setosa Iris-setosa\n",
            "44   [5.4 3.7 1.5 0.2] Iris-setosa Iris-setosa\n",
            "45   [5.5 2.4 3.7 1. ] Iris-versicolor Iris-versicolor\n",
            "46   [6.3 2.8 5.1 1.5] Iris-virginica Iris-virginica\n",
            "47   [6.4 3.1 5.5 1.8] Iris-virginica Iris-virginica\n",
            "48   [6.6 3.  4.4 1.4] Iris-versicolor Iris-versicolor\n",
            "49   [7.2 3.6 6.1 2.5] Iris-virginica Iris-virginica\n"
          ],
          "name": "stdout"
        }
      ]
    },
    {
      "cell_type": "code",
      "metadata": {
        "id": "vI5CsRSs4zjK",
        "colab_type": "code",
        "colab": {
          "base_uri": "https://localhost:8080/",
          "height": 34
        },
        "outputId": "5961803c-d1d7-4029-e0bb-80226dee7d93"
      },
      "source": [
        "#using Decision Tree Classifier\n",
        "clf = DecisionTreeClassifier()\n",
        "clf.fit(features_train,labels_train)\n",
        "pred = clf.predict(features_test)\n",
        "print (accuracy_score(pred,labels_test))"
      ],
      "execution_count": 134,
      "outputs": [
        {
          "output_type": "stream",
          "text": [
            "0.98\n"
          ],
          "name": "stdout"
        }
      ]
    },
    {
      "cell_type": "code",
      "metadata": {
        "id": "j1cETYO95RyE",
        "colab_type": "code",
        "colab": {
          "base_uri": "https://localhost:8080/",
          "height": 897
        },
        "outputId": "df0d34bc-7139-4c82-f68c-d93483b2b769"
      },
      "source": [
        "for i in range (len(features_test)): \n",
        "  print (i,\" \",features_test[i],labels_test[i],pred[i])"
      ],
      "execution_count": 135,
      "outputs": [
        {
          "output_type": "stream",
          "text": [
            "0   [6.1 2.8 4.7 1.2] Iris-versicolor Iris-versicolor\n",
            "1   [5.7 3.8 1.7 0.3] Iris-setosa Iris-setosa\n",
            "2   [7.7 2.6 6.9 2.3] Iris-virginica Iris-virginica\n",
            "3   [6.  2.9 4.5 1.5] Iris-versicolor Iris-versicolor\n",
            "4   [6.8 2.8 4.8 1.4] Iris-versicolor Iris-versicolor\n",
            "5   [5.4 3.4 1.5 0.4] Iris-setosa Iris-setosa\n",
            "6   [5.6 2.9 3.6 1.3] Iris-versicolor Iris-versicolor\n",
            "7   [6.9 3.1 5.1 2.3] Iris-virginica Iris-virginica\n",
            "8   [6.2 2.2 4.5 1.5] Iris-versicolor Iris-versicolor\n",
            "9   [5.8 2.7 3.9 1.2] Iris-versicolor Iris-versicolor\n",
            "10   [6.5 3.2 5.1 2. ] Iris-virginica Iris-virginica\n",
            "11   [4.8 3.  1.4 0.1] Iris-setosa Iris-setosa\n",
            "12   [5.5 3.5 1.3 0.2] Iris-setosa Iris-setosa\n",
            "13   [4.9 3.1 1.5 0.1] Iris-setosa Iris-setosa\n",
            "14   [5.1 3.8 1.5 0.3] Iris-setosa Iris-setosa\n",
            "15   [6.3 3.3 4.7 1.6] Iris-versicolor Iris-versicolor\n",
            "16   [6.5 3.  5.8 2.2] Iris-virginica Iris-virginica\n",
            "17   [5.6 2.5 3.9 1.1] Iris-versicolor Iris-versicolor\n",
            "18   [5.7 2.8 4.5 1.3] Iris-versicolor Iris-versicolor\n",
            "19   [6.4 2.8 5.6 2.2] Iris-virginica Iris-virginica\n",
            "20   [4.7 3.2 1.6 0.2] Iris-setosa Iris-setosa\n",
            "21   [6.1 3.  4.9 1.8] Iris-virginica Iris-virginica\n",
            "22   [5.  3.4 1.6 0.4] Iris-setosa Iris-setosa\n",
            "23   [6.4 2.8 5.6 2.1] Iris-virginica Iris-virginica\n",
            "24   [7.9 3.8 6.4 2. ] Iris-virginica Iris-virginica\n",
            "25   [6.7 3.  5.2 2.3] Iris-virginica Iris-virginica\n",
            "26   [6.7 2.5 5.8 1.8] Iris-virginica Iris-virginica\n",
            "27   [6.8 3.2 5.9 2.3] Iris-virginica Iris-virginica\n",
            "28   [4.8 3.  1.4 0.3] Iris-setosa Iris-setosa\n",
            "29   [4.8 3.1 1.6 0.2] Iris-setosa Iris-setosa\n",
            "30   [4.6 3.6 1.  0.2] Iris-setosa Iris-setosa\n",
            "31   [5.7 4.4 1.5 0.4] Iris-setosa Iris-setosa\n",
            "32   [6.7 3.1 4.4 1.4] Iris-versicolor Iris-versicolor\n",
            "33   [4.8 3.4 1.6 0.2] Iris-setosa Iris-setosa\n",
            "34   [4.4 3.2 1.3 0.2] Iris-setosa Iris-setosa\n",
            "35   [6.3 2.5 5.  1.9] Iris-virginica Iris-virginica\n",
            "36   [6.4 3.2 4.5 1.5] Iris-versicolor Iris-versicolor\n",
            "37   [5.2 3.5 1.5 0.2] Iris-setosa Iris-setosa\n",
            "38   [5.  3.6 1.4 0.2] Iris-setosa Iris-setosa\n",
            "39   [5.2 4.1 1.5 0.1] Iris-setosa Iris-setosa\n",
            "40   [5.8 2.7 5.1 1.9] Iris-virginica Iris-virginica\n",
            "41   [6.  3.4 4.5 1.6] Iris-versicolor Iris-versicolor\n",
            "42   [6.7 3.1 4.7 1.5] Iris-versicolor Iris-versicolor\n",
            "43   [5.4 3.9 1.3 0.4] Iris-setosa Iris-setosa\n",
            "44   [5.4 3.7 1.5 0.2] Iris-setosa Iris-setosa\n",
            "45   [5.5 2.4 3.7 1. ] Iris-versicolor Iris-versicolor\n",
            "46   [6.3 2.8 5.1 1.5] Iris-virginica Iris-versicolor\n",
            "47   [6.4 3.1 5.5 1.8] Iris-virginica Iris-virginica\n",
            "48   [6.6 3.  4.4 1.4] Iris-versicolor Iris-versicolor\n",
            "49   [7.2 3.6 6.1 2.5] Iris-virginica Iris-virginica\n"
          ],
          "name": "stdout"
        }
      ]
    }
  ]
}